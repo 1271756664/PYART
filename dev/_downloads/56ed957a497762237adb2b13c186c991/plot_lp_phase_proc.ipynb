{
  "cells": [
    {
      "cell_type": "code",
      "execution_count": null,
      "metadata": {
        "collapsed": false
      },
      "outputs": [],
      "source": [
        "%matplotlib inline"
      ]
    },
    {
      "cell_type": "markdown",
      "metadata": {},
      "source": [
        "\n# Linear programming phase processing\n\n\nAn example of using linear processing to process the differential phase\nfields of a ARM C-SAPR radar.\n"
      ]
    },
    {
      "cell_type": "code",
      "execution_count": null,
      "metadata": {
        "collapsed": false
      },
      "outputs": [],
      "source": [
        "print(__doc__)\n\n# Author: Jonathan J. Helmus (jhelmus@anl.gov)\n# License: BSD 3 clause\n\nimport numpy as np\nimport matplotlib.pyplot as plt\nimport pyart\n\n# perform LP phase processing (this takes a while)\nradar = pyart.io.read_mdv('095636.mdv')\n\n# the next line force only the first sweep to be processed, this\n# significantly speeds up the calculation but should be commented out\n# in production so that the entire volume is processed\nradar = radar.extract_sweeps([0])\n\nphidp, kdp = pyart.correct.phase_proc_lp(radar, 0.0, debug=True)\nradar.add_field('corrected_differential_phase', phidp)\nradar.add_field('corrected_specific_diff_phase', kdp)\n\n# the following line can be used to save/load in preprocessed data\n#pyart.io.write_cfradial('preprocessed.nc', radar)\n#radar = pyart.io.read_cfradial('preprocessed.nc')\n\n# create a plot of the various differential phase fields\ndisplay = pyart.graph.RadarDisplay(radar)\nfig = plt.figure(figsize=(10, 10))\nax1 = fig.add_subplot(221)\ndisplay.plot('differential_phase', 0, ax=ax1,\n             title='Raw Differential Phase', colorbar_label='',\n             axislabels_flag=False)\n\nax2 = fig.add_subplot(222)\ndisplay.plot('corrected_differential_phase', 0, ax=ax2,\n             title='Processed Differential Phase', colorbar_label='',\n             axislabels_flag=False)\n\nax3 = fig.add_subplot(223)\ndisplay.plot('specific_differential_phase', 0, ax=ax3, vmin=0, vmax=6,\n             title='Raw Specific Differential Phase', colorbar_label='',\n             axislabels_flag=False)\n\nax4 = fig.add_subplot(224)\ndisplay.plot('corrected_specific_diff_phase', 0, ax=ax4, vmin=0, vmax=6,\n             title='Processed Specific Differential Phase',\n             colorbar_label='',\n             axislabels_flag=False)\nplt.show()\n\n# plot a fields from a single ray\ndisplay = pyart.graph.RadarDisplay(radar)\nfig = plt.figure(figsize=[10, 5])\nax = fig.add_subplot(111)\nray_num = 191\n\n# filtered phidp and unfolded phidp\ndisplay.plot_ray('corrected_differential_phase', ray_num, format_str='b-',\n                 axislabels_flag=False, title_flag=False, ax=ax)\n\ndisplay.plot_ray('unfolded_differential_phase', ray_num, format_str='g-',\n                 axislabels_flag=False, title_flag=False, ax=ax)\n\n# set labels\nax.set_ylim(0, 250)\nax.set_ylabel('Differential phase shift (degrees)')\nax.set_xlabel('Range (km)')\n\n# plot KDP and reflectivity on second axis\nax2 = ax.twinx()\ndisplay.plot_ray('corrected_specific_diff_phase', ray_num, format_str='r-',\n                 axislabels_flag=False, title_flag=False, ax=ax2)\nradar.add_field_like('reflectivity', 'scaled_reflectivity',\n                     radar.fields['reflectivity']['data']/10.)\ndisplay.plot_ray('scaled_reflectivity', ray_num, format_str='b-',\n                 axislabels_flag=False, title_flag=False, ax=ax2)\n\n# decorate\nax2.yaxis.grid(color='gray', linestyle='dashed')\nax.legend(display.plots,\n          [\"Filtered phiDP\", \"Unfolded phiDP\", 'KDP', 'Z/10.0'],\n          loc='upper left')\nplt.show()"
      ]
    }
  ],
  "metadata": {
    "kernelspec": {
      "display_name": "Python 3",
      "language": "python",
      "name": "python3"
    },
    "language_info": {
      "codemirror_mode": {
        "name": "ipython",
        "version": 3
      },
      "file_extension": ".py",
      "mimetype": "text/x-python",
      "name": "python",
      "nbconvert_exporter": "python",
      "pygments_lexer": "ipython3",
      "version": "3.7.3"
    }
  },
  "nbformat": 4,
  "nbformat_minor": 0
}